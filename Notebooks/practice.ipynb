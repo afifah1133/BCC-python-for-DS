{
  "cells": [
    {
      "cell_type": "markdown",
      "metadata": {
        "id": "view-in-github",
        "colab_type": "text"
      },
      "source": [
        "<a href=\"https://colab.research.google.com/github/afifah1133/BCC-python-for-DS/blob/master/Notebooks/practice.ipynb\" target=\"_parent\"><img src=\"https://colab.research.google.com/assets/colab-badge.svg\" alt=\"Open In Colab\"/></a>"
      ]
    },
    {
      "metadata": {
        "id": "609c7d0913b26a99"
      },
      "cell_type": "markdown",
      "source": [
        "# PRACTICE TIME!! &#128074;\n",
        "\n",
        "![meme](https://media.giphy.com/media/13rQ7rrTrvZXlm/giphy.gif?cid=790b7611tbr19hibmoipc9i7bd6u754u1l2a831y9hbjcsd8&ep=v1_gifs_search&rid=giphy.gif&ct=g)\n",
        "\n",
        "### And one more thing...\n",
        "\n",
        "try to not open Gen AI tools if you are stuck okayy >_<"
      ],
      "id": "609c7d0913b26a99"
    },
    {
      "metadata": {
        "id": "3af06eb55927dedc"
      },
      "cell_type": "markdown",
      "source": [
        "# Easy level\n",
        "### Test case 1 : write a function to check if a number is even or odd\n",
        "\n",
        "***You can only write 1 line in a function***"
      ],
      "id": "3af06eb55927dedc"
    },
    {
      "metadata": {
        "ExecuteTime": {
          "end_time": "2025-02-07T08:50:23.736158Z",
          "start_time": "2025-02-07T08:50:23.732847Z"
        },
        "colab": {
          "base_uri": "https://localhost:8080/"
        },
        "id": "6d7c24b7bcc5b80d",
        "outputId": "ce030041-7b01-4445-bea9-8367a1f36bed"
      },
      "cell_type": "code",
      "source": [
        "# write and continue the code down here\n",
        "def ceknum(a):\n",
        "    return \"Even\" if a%2 == 0 else \"Odd\"\n",
        "\n",
        "# Test\n",
        "print(ceknum(4))  # Expected: Even\n",
        "print(ceknum(7))  # Expected: Odd\n",
        "\n",
        "# The output should be like below"
      ],
      "id": "6d7c24b7bcc5b80d",
      "outputs": [
        {
          "output_type": "stream",
          "name": "stdout",
          "text": [
            "Even\n",
            "Odd\n"
          ]
        }
      ],
      "execution_count": 2
    },
    {
      "metadata": {
        "id": "a883ea0dbe17769c"
      },
      "cell_type": "markdown",
      "source": [
        "# Medium level\n",
        "\n",
        "### Test case 2 : write a function to check for anagrams\n",
        "\n",
        "Checks if two strings are anagrams by comparing their sorted characters.\n",
        "\n"
      ],
      "id": "a883ea0dbe17769c"
    },
    {
      "metadata": {
        "ExecuteTime": {
          "end_time": "2025-02-08T07:41:36.884705Z",
          "start_time": "2025-02-08T07:41:36.879705Z"
        },
        "colab": {
          "base_uri": "https://localhost:8080/"
        },
        "id": "279b3b0bb509fc93",
        "outputId": "7ed53f08-0221-4f3f-c0ca-197c92cd563d"
      },
      "cell_type": "code",
      "source": [
        "def anagram(str1, str2):\n",
        "  a = set(a for a in str1)\n",
        "  b = set(a for a in str2)\n",
        "  if a == b:\n",
        "    return True\n",
        "  else:\n",
        "    return False\n",
        "\n",
        "# # Test\n",
        "print(anagram(\"listen\", \"silent\"))  # Expected: True\n",
        "print(anagram(\"hello\", \"world\"))    # Expected: False"
      ],
      "id": "279b3b0bb509fc93",
      "outputs": [
        {
          "output_type": "stream",
          "name": "stdout",
          "text": [
            "True\n",
            "False\n"
          ]
        }
      ],
      "execution_count": 4
    },
    {
      "metadata": {
        "id": "5be0a99705f164a9"
      },
      "cell_type": "markdown",
      "source": [
        "# Medium level\n",
        "### Test case 3 : write a function to calculate the factorial of a number"
      ],
      "id": "5be0a99705f164a9"
    },
    {
      "metadata": {
        "colab": {
          "base_uri": "https://localhost:8080/"
        },
        "id": "3a5dfba656b0ae8d",
        "outputId": "b3bd9839-5d94-493b-f09b-1a870065e743"
      },
      "cell_type": "code",
      "outputs": [
        {
          "output_type": "stream",
          "name": "stdout",
          "text": [
            "120\n",
            "1\n"
          ]
        }
      ],
      "execution_count": 3,
      "source": [
        "def fact(num):\n",
        "  n = 1\n",
        "  for a in range(num):\n",
        "    n = n * (a+1)\n",
        "  return n\n",
        "\n",
        "# # Test\n",
        "print(fact(5))  # Expected: 120\n",
        "print(fact(0))  # Expected: 1"
      ],
      "id": "3a5dfba656b0ae8d"
    },
    {
      "metadata": {
        "id": "91e9e53f463c85b3"
      },
      "cell_type": "markdown",
      "source": [
        "# Hard level\n",
        "### Test case 4 : write a function if a string is a palindrome\n",
        "\n",
        "***Only 1 line of code is permitted in a function***"
      ],
      "id": "91e9e53f463c85b3"
    },
    {
      "metadata": {
        "ExecuteTime": {
          "end_time": "2025-02-08T07:58:37.038581Z",
          "start_time": "2025-02-08T07:58:37.033123Z"
        },
        "colab": {
          "base_uri": "https://localhost:8080/"
        },
        "id": "38c87a81a904a09d",
        "outputId": "a31b7690-481e-4ea9-e834-f58fba87e9ef"
      },
      "cell_type": "code",
      "source": [
        "def poly(kata):\n",
        "  kata_reverse = ''.join(reversed(kata))\n",
        "  if kata == kata_reverse:\n",
        "    return True\n",
        "  else:\n",
        "    return False\n",
        "\n",
        "# # Test\n",
        "print(poly(\"racecar\"))  # Expected: True\n",
        "print(poly(\"python\"))   # Expected: False\n",
        "print(poly(\"habibah\")) # Expected : True"
      ],
      "id": "38c87a81a904a09d",
      "outputs": [
        {
          "output_type": "stream",
          "name": "stdout",
          "text": [
            "True\n",
            "False\n",
            "True\n"
          ]
        }
      ],
      "execution_count": 6
    },
    {
      "metadata": {
        "id": "2a48d58b92c9ecff"
      },
      "cell_type": "markdown",
      "source": [
        "# Expert level\n",
        "### Test case 5 : create a class to represent a Bank Account with deposit and withdrawal methods"
      ],
      "id": "2a48d58b92c9ecff"
    },
    {
      "metadata": {
        "ExecuteTime": {
          "end_time": "2025-02-09T16:18:19.041012Z",
          "start_time": "2025-02-09T16:18:19.035604Z"
        },
        "colab": {
          "base_uri": "https://localhost:8080/"
        },
        "id": "d8cb2ddeda85fa11",
        "outputId": "779adbe0-16c0-40c9-b078-1d50b29f48a5"
      },
      "cell_type": "code",
      "source": [
        "class BankAccount:\n",
        "  def __init__ (self, money = 0):\n",
        "    self.money = money\n",
        "\n",
        "  def deposit(self, plus):\n",
        "    self.money += plus\n",
        "    return f\"Deposited {plus}. New balance: {self.money}\"\n",
        "\n",
        "  def withdraw(self, minus):\n",
        "    if minus <= self.money:\n",
        "      self.money -= minus\n",
        "      return f\"Withdrew {minus}. New balance: {self.money}\"\n",
        "    else :\n",
        "      return \"Invalid withdrawal amount or insufficient funds\"\n",
        "\n",
        "# Test\n",
        "account = BankAccount(0)\n",
        "print(account.deposit(1000))   # Expected: Deposited 1000. New balance: 1000\n",
        "print(account.withdraw(500))   # Expected: Withdrew 500. New balance: 500\n",
        "print(account.withdraw(600))   # Expected: Invalid withdrawal amount or insufficient funds\n",
        "\n",
        "#The output should be right below for example"
      ],
      "id": "d8cb2ddeda85fa11",
      "outputs": [
        {
          "output_type": "stream",
          "name": "stdout",
          "text": [
            "Deposited 1000. New balance: 1000\n",
            "Withdrew 500. New balance: 500\n",
            "Invalid withdrawal amount or insufficient funds\n"
          ]
        }
      ],
      "execution_count": 8
    }
  ],
  "metadata": {
    "kernelspec": {
      "display_name": "Python 3",
      "language": "python",
      "name": "python3"
    },
    "language_info": {
      "codemirror_mode": {
        "name": "ipython",
        "version": 2
      },
      "file_extension": ".py",
      "mimetype": "text/x-python",
      "name": "python",
      "nbconvert_exporter": "python",
      "pygments_lexer": "ipython2",
      "version": "2.7.6"
    },
    "colab": {
      "provenance": [],
      "include_colab_link": true
    }
  },
  "nbformat": 4,
  "nbformat_minor": 5
}